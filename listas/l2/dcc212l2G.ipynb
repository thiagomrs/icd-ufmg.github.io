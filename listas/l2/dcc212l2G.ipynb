{
 "cells": [
  {
   "cell_type": "markdown",
   "metadata": {},
   "source": [
    "# Lista 02 - Pandas Básico\n",
    "\n",
    "Uma parte significativa do trabalho de um cientista de dados é explorar, analisar e visualizar dados. Há uma grande variedade de ferramentas e linguagens de programação que eles podem usar para fazer isso, e uma das abordagens mais populares é usar notebooks Jupyter (como este) e Python.\n",
    "\n",
    "Neste notebook, vamos explorar o pacote [Pandas](http://pandas.pydata.org) e o [Matplotlib](http://matplotlib.org). Também aplicaremos técnicas básicas para analisar dados. Este notebook não é um exercício de programação Python abrangente; ou até mesmo um mergulho profundo na análise de dados. Em vez disso, pretende ser um curso intensivo sobre algumas das maneiras comuns em que os cientistas de dados podem usar Python para explorar com dados. \n",
    "\n",
    "## Imports Básicos\n",
    "\n",
    "As três células abaixo apenas configuram nosso notebook para ficar mais parecido com os das aulas"
   ]
  },
  {
   "cell_type": "code",
   "execution_count": 1,
   "metadata": {},
   "outputs": [],
   "source": [
    "import numpy as np\n",
    "import matplotlib.pyplot as plt\n",
    "import pandas as pd"
   ]
  },
  {
   "cell_type": "code",
   "execution_count": 2,
   "metadata": {},
   "outputs": [],
   "source": [
    "plt.rcParams['figure.figsize']  = (16, 10)\n",
    "plt.rcParams['axes.labelsize']  = 20\n",
    "plt.rcParams['axes.titlesize']  = 20\n",
    "plt.rcParams['legend.fontsize'] = 20\n",
    "plt.rcParams['xtick.labelsize'] = 20\n",
    "plt.rcParams['ytick.labelsize'] = 20\n",
    "plt.rcParams['lines.linewidth'] = 4"
   ]
  },
  {
   "cell_type": "code",
   "execution_count": 3,
   "metadata": {},
   "outputs": [],
   "source": [
    "plt.ion()\n",
    "plt.style.use('seaborn-colorblind')"
   ]
  },
  {
   "cell_type": "markdown",
   "metadata": {},
   "source": [
    "## NumPy Novamente\n",
    "\n",
    "Vamos começar examinando alguns dados simples.\n",
    "\n",
    "Em determinadas épocas do ano a venda de certos produtos sofre um aumento significativo. Um exemplo disso, são as vendas de sorvete que aumentam bastante no verão. Além do sorvete, outros itens como protetor solar e vestuário de banho podem ganhar maior atenção durante essa época do ano enquanto outros produtos podem não ser tão valorizados.\n",
    "\n",
    "Inicialmente, vamos criar alguns dadoos de vendas de sorvete."
   ]
  },
  {
   "cell_type": "code",
   "execution_count": 4,
   "metadata": {},
   "outputs": [
    {
     "name": "stdout",
     "output_type": "stream",
     "text": [
      "[3000, 2600, 1400, 1500, 1200, 500, 300, 400, 700, 600, 800, 1900]\n"
     ]
    }
   ],
   "source": [
    "ice_cream = [3000, 2600, 1400, 1500, 1200, 500, 300, 400, 700, 600, 800, 1900]\n",
    "print(ice_cream)"
   ]
  },
  {
   "cell_type": "markdown",
   "metadata": {},
   "source": [
    "Os dados foram carregados em um TAD **list**. Como falamos no último laboratório, listas não são otimizadas para análise numérica. Para isso, vamos usar o pacote **NumPy** novamente. Então, vamos criar um vetor Numpy dos dados!"
   ]
  },
  {
   "cell_type": "code",
   "execution_count": 5,
   "metadata": {},
   "outputs": [
    {
     "name": "stdout",
     "output_type": "stream",
     "text": [
      "[3000 2600 1400 1500 1200  500  300  400  700  600  800 1900]\n"
     ]
    }
   ],
   "source": [
    "ice_cream_v = np.array(ice_cream)\n",
    "print(ice_cream_v)"
   ]
  },
  {
   "cell_type": "markdown",
   "metadata": {},
   "source": [
    "Caso você ainda esteja se perguntando sobre as diferenças entre uma **list** e uma **array numpy (np.array)**, vamos comparar como esses tipos de dados se comportam quando os usamos em uma expressão que os multiplica por 2. "
   ]
  },
  {
   "cell_type": "code",
   "execution_count": 6,
   "metadata": {},
   "outputs": [
    {
     "name": "stdout",
     "output_type": "stream",
     "text": [
      "<class 'list'> x 2: [3000, 2600, 1400, 1500, 1200, 500, 300, 400, 700, 600, 800, 1900, 3000, 2600, 1400, 1500, 1200, 500, 300, 400, 700, 600, 800, 1900]\n",
      "---\n",
      "<class 'numpy.ndarray'> x 2: [6000 5200 2800 3000 2400 1000  600  800 1400 1200 1600 3800]\n"
     ]
    }
   ],
   "source": [
    "print (type(ice_cream),'x 2:', ice_cream * 2)\n",
    "print('---')\n",
    "print (type(ice_cream_v),'x 2:', ice_cream_v * 2)"
   ]
  },
  {
   "cell_type": "markdown",
   "metadata": {},
   "source": [
    "Observe que multiplicar uma lista por 2 cria uma nova lista com o dobro do comprimento e a sequência original de elementos da lista repetida. Multiplicar um array NumPy, por outro lado, realiza um cálculo elementar no qual o array se comporta como um *vetor*. Terminamos com um array do mesmo tamanho no qual cada elemento foi multiplicado por 2.\n",
    "\n",
    "A principal conclusão disso é que os arrays NumPy são projetados especificamente para suportar operações matemáticas em dados numéricos. "
   ]
  },
  {
   "cell_type": "code",
   "execution_count": 7,
   "metadata": {},
   "outputs": [
    {
     "data": {
      "text/plain": "1000.0"
     },
     "execution_count": 7,
     "metadata": {},
     "output_type": "execute_result"
    }
   ],
   "source": [
    "np.median(ice_cream_v)"
   ]
  },
  {
   "cell_type": "markdown",
   "metadata": {},
   "source": [
    "### Exercício 01\n",
    "\n",
    "Altere a função abaixo para retornar a mediana do valor dos sortvetes e o número de elementos no array."
   ]
  },
  {
   "cell_type": "code",
   "execution_count": 25,
   "metadata": {},
   "outputs": [],
   "source": [
    "def median_and_size(array):\n",
    "    median_array = np.median(array)\n",
    "    size_array = array.size\n",
    "    return median_array, size_array"
   ]
  },
  {
   "cell_type": "markdown",
   "metadata": {},
   "source": [
    "Novamente, vanos carregar os módulos de testes"
   ]
  },
  {
   "cell_type": "code",
   "execution_count": 27,
   "metadata": {},
   "outputs": [],
   "source": [
    "from numpy.testing import assert_almost_equal\n",
    "from numpy.testing import assert_equal\n",
    "\n",
    "from numpy.testing import assert_array_almost_equal\n",
    "from numpy.testing import assert_array_equal"
   ]
  },
  {
   "cell_type": "markdown",
   "metadata": {},
   "source": [
    "Nosso teste"
   ]
  },
  {
   "cell_type": "code",
   "execution_count": 26,
   "metadata": {},
   "outputs": [],
   "source": [
    "median, size = median_and_size(ice_cream_v)\n",
    "assert_equal(1000, median)\n",
    "assert_equal(12, size)"
   ]
  },
  {
   "cell_type": "code",
   "execution_count": 11,
   "metadata": {},
   "outputs": [
    {
     "data": {
      "text/plain": "12"
     },
     "execution_count": 11,
     "metadata": {},
     "output_type": "execute_result"
    }
   ],
   "source": [
    "len(ice_cream_v)"
   ]
  },
  {
   "cell_type": "markdown",
   "metadata": {},
   "source": [
    "## Pandas"
   ]
  },
  {
   "cell_type": "markdown",
   "metadata": {},
   "source": [
    "Embora o NumPy forneça muitas das funcionalidades de que você precisa para trabalhar com números, quando você começa a lidar com tabelas de dados bidimensionais, o pacote Pandas oferece uma estrutura mais conveniente para trabalhar - o DataFrame.\n",
    "\n",
    "Agora, vamos criar alguns dados de vendas de outros produtos. Além do mais, vamos criar um array de meses."
   ]
  },
  {
   "cell_type": "code",
   "execution_count": 12,
   "metadata": {},
   "outputs": [],
   "source": [
    "ice_cream = np.array([3000, 2600, 1400, 1500, 1200, 500, 300, 400, 700, 600, 800, 1900])\n",
    "sunglasses = np.array([1000, 800, 100, 70, 50, 190, 60, 50, 100, 120, 130, 900])\n",
    "coats = np.array([10, 20, 80, 120, 100, 500, 900, 780, 360, 100, 120, 20])\n",
    "labels = np.array([\"Jan\", \"Fev\", \"Mar\", \"Abr\", \"Mai\", \"Jun\", \"Jul\", \"Ago\", \"Set\", \"Out\", \"Nov\", \"Dez\"])"
   ]
  },
  {
   "cell_type": "markdown",
   "metadata": {},
   "source": [
    "O código abaixo cria um DataFrame na mão. É mais comum ler dados de arquivos. Porém, neste laboratório inicial, vamos usar um DataFrame com a pequna base de dados acima. A tabela vai ser da seguinte forma:\n",
    "\n",
    "```\n",
    "       icecream   sunglasses   coats\n",
    "------------------------------------\n",
    "Jan     3000        1000        10\n",
    "Fev     2600        800         20\n",
    "...     ...         ...        ...\n",
    "Dez     1900        900         20\n",
    "```\n",
    "\n",
    "Observe que, além das colunas que você especificou, o DataFrame inclui um índice para identificar cada linha de forma exclusiva."
   ]
  },
  {
   "cell_type": "code",
   "execution_count": 13,
   "metadata": {},
   "outputs": [],
   "source": [
    "df = pd.DataFrame({'icecream': ice_cream,      # coluna 0\n",
    "                   'sunglasses': sunglasses,   # coluna 1\n",
    "                   'coats': coats},            # coluna 2\n",
    "                   index=labels)"
   ]
  },
  {
   "cell_type": "markdown",
   "metadata": {},
   "source": [
    "A chamada head mostra as 5 primeiras linhas do DataFrame. "
   ]
  },
  {
   "cell_type": "code",
   "execution_count": 14,
   "metadata": {},
   "outputs": [
    {
     "data": {
      "text/plain": "     icecream  sunglasses  coats\nJan      3000        1000     10\nFev      2600         800     20\nMar      1400         100     80\nAbr      1500          70    120\nMai      1200          50    100",
      "text/html": "<div>\n<style scoped>\n    .dataframe tbody tr th:only-of-type {\n        vertical-align: middle;\n    }\n\n    .dataframe tbody tr th {\n        vertical-align: top;\n    }\n\n    .dataframe thead th {\n        text-align: right;\n    }\n</style>\n<table border=\"1\" class=\"dataframe\">\n  <thead>\n    <tr style=\"text-align: right;\">\n      <th></th>\n      <th>icecream</th>\n      <th>sunglasses</th>\n      <th>coats</th>\n    </tr>\n  </thead>\n  <tbody>\n    <tr>\n      <th>Jan</th>\n      <td>3000</td>\n      <td>1000</td>\n      <td>10</td>\n    </tr>\n    <tr>\n      <th>Fev</th>\n      <td>2600</td>\n      <td>800</td>\n      <td>20</td>\n    </tr>\n    <tr>\n      <th>Mar</th>\n      <td>1400</td>\n      <td>100</td>\n      <td>80</td>\n    </tr>\n    <tr>\n      <th>Abr</th>\n      <td>1500</td>\n      <td>70</td>\n      <td>120</td>\n    </tr>\n    <tr>\n      <th>Mai</th>\n      <td>1200</td>\n      <td>50</td>\n      <td>100</td>\n    </tr>\n  </tbody>\n</table>\n</div>"
     },
     "execution_count": 14,
     "metadata": {},
     "output_type": "execute_result"
    }
   ],
   "source": [
    "df.head()"
   ]
  },
  {
   "cell_type": "markdown",
   "metadata": {},
   "source": [
    "### Exercício 02\n",
    "\n",
    "Lembre-se da sala de aula que pandas contém chamadas `loc` e `iloc` para acessar o índice. Sabendo disto, implemente a função abaixo que retorna a quantidade de vendas em um dado mês na forma de `string`. A sua função deve retorna uma Series do pandas. Por exemplo, segue a saída esperada para 'Jan'.\n",
    "\n",
    "```python\n",
    "month_sales(df, 'Jan')\n",
    "```\n",
    "\n",
    "```\n",
    "icecream      3000\n",
    "sunglasses    1000\n",
    "coats           10\n",
    "Name: Jan, dtype: int64\n",
    "```"
   ]
  },
  {
   "cell_type": "code",
   "execution_count": 15,
   "metadata": {},
   "outputs": [],
   "source": [
    "def month_sales(df, month: str):\n",
    "    return df.loc[month]"
   ]
  },
  {
   "cell_type": "code",
   "execution_count": 16,
   "metadata": {},
   "outputs": [],
   "source": [
    "series = month_sales(df, 'Jan')\n",
    "assert_equal(3000, series.loc['icecream'])\n",
    "assert_equal(1000, series.loc['sunglasses'])\n",
    "assert_equal(10, series.loc['coats'])"
   ]
  },
  {
   "cell_type": "markdown",
   "metadata": {},
   "source": [
    "series = month_sales(df, 'Jan')\n",
    "assert_equal(3000, series.loc['icecream'])\n",
    "assert_equal(1000, series.loc['sunglasses'])\n",
    "assert_equal(10, series.loc['coats'])"
   ]
  },
  {
   "cell_type": "markdown",
   "metadata": {},
   "source": [
    "### Exercício 03\n",
    "\n",
    "Agora, implemente uma função que retorna uma linha do DataFrame via um inteiro."
   ]
  },
  {
   "cell_type": "code",
   "execution_count": 17,
   "metadata": {},
   "outputs": [],
   "source": [
    "def row_sales(df, row: int):\n",
    "    return df.iloc[row]"
   ]
  },
  {
   "cell_type": "code",
   "execution_count": 18,
   "metadata": {},
   "outputs": [],
   "source": [
    "series = row_sales(df, 0)\n",
    "assert_equal(3000, series.loc['icecream'])\n",
    "assert_equal(1000, series.loc['sunglasses'])\n",
    "assert_equal(10, series.loc['coats'])"
   ]
  },
  {
   "cell_type": "markdown",
   "metadata": {},
   "source": [
    "### Exercício 04 (Sem correção Automática)\n",
    "\n",
    "Agora, faça um gráfico estilo o abaixo para entender a venda de produtos ao longo dos meses. Esta tarefa não tem correção automática, use o gráfico abaixo para saber se acertou ou não.\n",
    "\n",
    "Lembre-se que em Pandas os data frames contém um método [plot](https://pandas.pydata.org/pandas-docs/stable/reference/api/pandas.DataFrame.plot.html). Leia a documentação do mesmo caso necessário.\n",
    "\n",
    "![](https://raw.githubusercontent.com/icd-ufmg/icd-ufmg.github.io/master/listas/l2/plot1.png)"
   ]
  },
  {
   "cell_type": "code",
   "execution_count": 19,
   "metadata": {
    "pycharm": {
     "name": "#%%\n"
    }
   },
   "outputs": [
    {
     "data": {
      "text/plain": "<AxesSubplot:>"
     },
     "execution_count": 19,
     "metadata": {},
     "output_type": "execute_result"
    },
    {
     "data": {
      "text/plain": "<Figure size 1152x720 with 1 Axes>",
      "image/png": "[encoded data removed]"
     },
     "metadata": {
      "needs_background": "light"
     },
     "output_type": "display_data"
    }
   ],
   "source": [
    "df.plot.bar(y = [\"icecream\", \"sunglasses\", \"coats\"])"
   ]
  },
  {
   "cell_type": "markdown",
   "metadata": {},
   "source": [
    "### Exercício 05\n",
    "\n",
    "Agora, altere a função abaixo para retornar 'Norte' caso você acha ache que o país das vendas acima é do hemisfério norte. Retorne 'Sul' caso contraŕio."
   ]
  },
  {
   "cell_type": "code",
   "execution_count": 20,
   "metadata": {},
   "outputs": [],
   "source": [
    "def north_or_south():\n",
    "    # retorne 'Norte' ou 'Sul'\n",
    "    return 'Norte'"
   ]
  },
  {
   "cell_type": "markdown",
   "metadata": {},
   "source": [
    "### Exercício 06\n",
    "\n",
    "Por fim, crie um método que retorne as estatísticas agregadas. Seu método deve retornar um novo DataFrame do seguinte formato.\n",
    "\n",
    "```\n",
    "          icecream   sunglasses       coats\n",
    "count    12.000000    12.000000   12.000000\n",
    "mean   1241.666667   297.500000  259.166667\n",
    "std     879.522942   367.896354  308.676304\n",
    "min     300.000000    50.000000   10.000000\n",
    "25%     575.000000    67.500000   65.000000\n",
    "50%    1000.000000   110.000000  110.000000\n",
    "75%    1600.000000   342.500000  395.000000\n",
    "max    3000.000000  1000.000000  900.000000\n",
    "```\n",
    "\n",
    "Uma única chamada Pandas resolve este problema!"
   ]
  },
  {
   "cell_type": "code",
   "execution_count": 21,
   "metadata": {},
   "outputs": [],
   "source": [
    "def questao6(df):\n",
    "    return df.describe()"
   ]
  },
  {
   "cell_type": "markdown",
   "metadata": {},
   "source": [
    "## Arquivos\n",
    "\n",
    "É bem mais comum fazer uso de DataFrames que já existem em arquivos. Note que o trabalho do cientista de dados nem sempre vai ter tais arquivos prontos. Em várias ocasiões, você vai ter que coletar e organizar os mesmos. Limpeza e coleta de dados é uma parte fundamental do seu trabalho. Durante a matéria, boa parte dos notebooks já vão ter dados prontos.\n",
    "\n",
    "Neste último exercício, vamos fazer uso dos dados de [John Snow](http://blog.rtwilson.com/john-snows-cholera-data-in-more-formats/). Os dados já foram limpos para a tarefa."
   ]
  },
  {
   "cell_type": "code",
   "execution_count": 22,
   "metadata": {},
   "outputs": [
    {
     "data": {
      "text/plain": "   Count                                     geometry  NearestPumpID\n0      3  POINT (529308.7414200425 181031.3515464273)              0\n1      2   POINT (529312.163571333 181025.1724011325)              0\n2      1  POINT (529314.3824294576 181020.2936884186)              0\n3      1  POINT (529317.3796448297 181014.2587706869)              0\n4      4  POINT (529320.6754489439 181007.8716281414)              0",
      "text/html": "<div>\n<style scoped>\n    .dataframe tbody tr th:only-of-type {\n        vertical-align: middle;\n    }\n\n    .dataframe tbody tr th {\n        vertical-align: top;\n    }\n\n    .dataframe thead th {\n        text-align: right;\n    }\n</style>\n<table border=\"1\" class=\"dataframe\">\n  <thead>\n    <tr style=\"text-align: right;\">\n      <th></th>\n      <th>Count</th>\n      <th>geometry</th>\n      <th>NearestPumpID</th>\n    </tr>\n  </thead>\n  <tbody>\n    <tr>\n      <th>0</th>\n      <td>3</td>\n      <td>POINT (529308.7414200425 181031.3515464273)</td>\n      <td>0</td>\n    </tr>\n    <tr>\n      <th>1</th>\n      <td>2</td>\n      <td>POINT (529312.163571333 181025.1724011325)</td>\n      <td>0</td>\n    </tr>\n    <tr>\n      <th>2</th>\n      <td>1</td>\n      <td>POINT (529314.3824294576 181020.2936884186)</td>\n      <td>0</td>\n    </tr>\n    <tr>\n      <th>3</th>\n      <td>1</td>\n      <td>POINT (529317.3796448297 181014.2587706869)</td>\n      <td>0</td>\n    </tr>\n    <tr>\n      <th>4</th>\n      <td>4</td>\n      <td>POINT (529320.6754489439 181007.8716281414)</td>\n      <td>0</td>\n    </tr>\n  </tbody>\n</table>\n</div>"
     },
     "execution_count": 22,
     "metadata": {},
     "output_type": "execute_result"
    }
   ],
   "source": [
    "df = pd.read_csv('https://raw.githubusercontent.com/icd-ufmg/icd-ufmg.github.io/master/listas/l2/snow.csv')\n",
    "df.head()"
   ]
  },
  {
   "cell_type": "markdown",
   "metadata": {},
   "source": [
    "A coluna Count indica o número de mortes em uma casa. A NearestPumpID indica qual bomba d'água é a mais próxima da casa. Os dados não vão bater com os da aula, pois eu não sabia exatamente onde cada casa pegava água. Apenas assumi ser no local mais próximo!"
   ]
  },
  {
   "cell_type": "markdown",
   "metadata": {},
   "source": [
    "## Groupby\n",
    "\n",
    "Vamos responder uma pergunta com a função groupby. Lembrando a ideia é separar os dados com base em valores comuns, ou seja, agrupar por nomes e realizar alguma operação. O comando abaixo agrupa todos os recem-náscidos por nome. Imagine a mesma fazendo uma operação equivalente ao laço abaixo:\n",
    "\n",
    "```python\n",
    "buckets = {}                    # Mapa de dados\n",
    "names = set(df['Name'])         # Conjunto de nomes únicos\n",
    "for idx, row in df.iterrows():  # Para cada linha dos dados\n",
    "    name = row['Name']\n",
    "    if name not in buckets:\n",
    "        buckets[name] = []      # Uma lista para cada nome\n",
    "    buckets[name].append(row)   # Separa a linha para cada nome\n",
    "```\n",
    "O código acima é bastante lento!!! O groupby é optimizado. Com base na linha abaixo, o mesmo nem retorna nehum resultado ainda. Apenas um objeto onde podemos fazer agregações."
   ]
  },
  {
   "cell_type": "markdown",
   "metadata": {},
   "source": [
    "### Exercício 07\n",
    "\n",
    "Implemente uma função que retorna a quantidade de mortes para cada bomba. Use o `groupby`."
   ]
  },
  {
   "cell_type": "code",
   "execution_count": 23,
   "metadata": {},
   "outputs": [],
   "source": [
    "def mortes_por_pump(df):\n",
    "    return df.groupby('NearestPumpID')['Count'].sum()"
   ]
  },
  {
   "cell_type": "code",
   "execution_count": 24,
   "metadata": {},
   "outputs": [
    {
     "data": {
      "text/plain": "NearestPumpID\n0    340\n1     65\n2      5\n4     40\n5     27\n7     12\nName: Count, dtype: int64"
     },
     "execution_count": 24,
     "metadata": {},
     "output_type": "execute_result"
    }
   ],
   "source": [
    "mortes_por_pump(df)"
   ]
  }
 ],
 "metadata": {
  "kernelspec": {
   "display_name": "Python 3",
   "language": "python",
   "name": "python3"
  },
  "language_info": {
   "codemirror_mode": {
    "name": "ipython",
    "version": 3
   },
   "file_extension": ".py",
   "mimetype": "text/x-python",
   "name": "python",
   "nbconvert_exporter": "python",
   "pygments_lexer": "ipython3",
   "version": "3.8.3"
  }
 },
 "nbformat": 4,
 "nbformat_minor": 4
}