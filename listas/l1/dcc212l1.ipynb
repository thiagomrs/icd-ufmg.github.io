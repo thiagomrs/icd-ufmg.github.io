{
 "cells": [
  {
   "cell_type": "markdown",
   "metadata": {},
   "source": [
    "# Lista 01 - Introdução e Revisão Numpy\n",
    "\n",
    "[NumPy](http://numpy.org) é um pacote incrivelmente poderoso em Python, onipresente em qualquer projeto de ciência de dados. Possui forte integração com o [Pandas](http://pandas.pydata.org), outra ferramenta que iremos abordar na matéria. NumPy adiciona suporte para matrizes multidimensionais e funções matemáticas que permitem que você execute facilmente cálculos de álgebra linear. Este notebook será uma coleção de exemplos de álgebra linear computados usando NumPy. \n",
    "\n",
    "## Numpy \n",
    "\n",
    "Para fazer uso de Numpy precisamos importar a biblioteca"
   ]
  },
  {
   "cell_type": "code",
   "execution_count": 1,
   "metadata": {},
   "outputs": [],
   "source": [
    "# -*- coding: utf8\n",
    "\n",
    "import numpy as np"
   ]
  },
  {
   "cell_type": "markdown",
   "metadata": {},
   "source": [
    "Quando pensamos no lado prático de ciência de dados, um aspecto chave que ajuda na implementação de novos algoritmos é a vetorização. De forma simples, vetorização consiste do uso de tipos como **escalar**, **vetor** e **matriz** para realizar uma computação mais eficaz (em tempo de execução).\n",
    "\n",
    "Uma matriz é uma coleção de valores, normalmente representada por uma grade 𝑚 × 𝑛, onde 𝑚 é o número de linhas e 𝑛 é o número de colunas. Os comprimentos das arestas 𝑚 e 𝑛 não precisam ser necessariamente diferentes. Se tivermos 𝑚 = 𝑛, chamamos isso de matriz quadrada. Um caso particularmente interessante de uma matriz é quando 𝑚 = 1 ou 𝑛 = 1. Nesse caso, temos um caso especial de uma matriz que chamamos de vetor. Embora haja um objeto de matriz em NumPy, faremos tudo usando matrizes NumPy porque elas podem ter dimensões maiores que 2. \n",
    "\n",
    "1. **Escalar:** Um vetor de zero dimensões"
   ]
  },
  {
   "cell_type": "code",
   "execution_count": 2,
   "metadata": {},
   "outputs": [
    {
     "data": {
      "text/plain": [
       "1"
      ]
     },
     "execution_count": 2,
     "metadata": {},
     "output_type": "execute_result"
    }
   ],
   "source": [
    "1"
   ]
  },
  {
   "cell_type": "markdown",
   "metadata": {},
   "source": [
    "2. **Vetor:** Representa uma dimensão"
   ]
  },
  {
   "cell_type": "markdown",
   "metadata": {},
   "source": [
    "Abaixo vamos criar um vetor simples. Inicialmente, vamos criar uma lista."
   ]
  },
  {
   "cell_type": "code",
   "execution_count": 3,
   "metadata": {},
   "outputs": [],
   "source": [
    "data_list = [3.5, 5, 2, 8, 4.2]"
   ]
  },
  {
   "cell_type": "markdown",
   "metadata": {},
   "source": [
    "Observe o tipo da mesma."
   ]
  },
  {
   "cell_type": "code",
   "execution_count": 4,
   "metadata": {},
   "outputs": [
    {
     "data": {
      "text/plain": [
       "list"
      ]
     },
     "execution_count": 4,
     "metadata": {},
     "output_type": "execute_result"
    }
   ],
   "source": [
    "type(data_list)"
   ]
  },
  {
   "cell_type": "markdown",
   "metadata": {},
   "source": [
    "Embora vetores e listas sejam parecidos, vetores Numpy são otimizados para operações de Álgebra Linear. Ciência de Dados faz bastante uso de tais operações, sendo este um dos motivos da dependência em Numpy.\n",
    "\n",
    "Abaixo criamos um vetor."
   ]
  },
  {
   "cell_type": "code",
   "execution_count": 5,
   "metadata": {},
   "outputs": [
    {
     "name": "stdout",
     "output_type": "stream",
     "text": [
      "[3.5 5.  2.  8.  4.2]\n",
      "<class 'numpy.ndarray'>\n"
     ]
    }
   ],
   "source": [
    "data = np.array(data_list)\n",
    "print(data)\n",
    "print(type(data))"
   ]
  },
  {
   "cell_type": "markdown",
   "metadata": {},
   "source": [
    "Observe como podemos somar o mesmo com um número. Não é possível fazer tal operação com listas."
   ]
  },
  {
   "cell_type": "code",
   "execution_count": 6,
   "metadata": {},
   "outputs": [
    {
     "data": {
      "text/plain": [
       "array([10.5, 12. ,  9. , 15. , 11.2])"
      ]
     },
     "execution_count": 6,
     "metadata": {},
     "output_type": "execute_result"
    }
   ],
   "source": [
    "data + 7"
   ]
  },
  {
   "cell_type": "markdown",
   "metadata": {},
   "source": [
    "3. **Matrizes:** Representam duas dimensões."
   ]
  },
  {
   "cell_type": "code",
   "execution_count": 7,
   "metadata": {},
   "outputs": [
    {
     "data": {
      "text/plain": [
       "array([[2, 4],\n",
       "       [1, 3]])"
      ]
     },
     "execution_count": 7,
     "metadata": {},
     "output_type": "execute_result"
    }
   ],
   "source": [
    "X = np.array([[2, 4],\n",
    "              [1, 3]])\n",
    "X"
   ]
  },
  {
   "cell_type": "markdown",
   "metadata": {},
   "source": [
    "Podemos indexar as matrizes e os vetores."
   ]
  },
  {
   "cell_type": "code",
   "execution_count": 8,
   "metadata": {},
   "outputs": [
    {
     "data": {
      "text/plain": [
       "3.5"
      ]
     },
     "execution_count": 8,
     "metadata": {},
     "output_type": "execute_result"
    }
   ],
   "source": [
    "data[0]"
   ]
  },
  {
   "cell_type": "code",
   "execution_count": 9,
   "metadata": {},
   "outputs": [
    {
     "data": {
      "text/plain": [
       "4"
      ]
     },
     "execution_count": 9,
     "metadata": {},
     "output_type": "execute_result"
    }
   ],
   "source": [
    "X[0, 1] # aqui é primeira linha, segunda coluna"
   ]
  },
  {
   "cell_type": "markdown",
   "metadata": {},
   "source": [
    "Podemos também criar vetores/matrizes de números aleatórios"
   ]
  },
  {
   "cell_type": "code",
   "execution_count": 10,
   "metadata": {},
   "outputs": [
    {
     "name": "stdout",
     "output_type": "stream",
     "text": [
      "[[-0.61446603 -0.17450377 -0.61815221]\n",
      " [-0.9451282  -0.25470773 -0.59524922]\n",
      " [-0.10445534  1.61097562  0.55283441]\n",
      " [-0.98305846  0.55147489 -0.50917124]]\n"
     ]
    }
   ],
   "source": [
    "# help(np.random.randn)\n",
    "X = np.random.randn(4, 3) # Gera números aleatórios de uma normal\n",
    "print(X)"
   ]
  },
  {
   "cell_type": "markdown",
   "metadata": {},
   "source": [
    "### Indexando\n",
    "\n",
    "Pegando a primeira linha"
   ]
  },
  {
   "cell_type": "code",
   "execution_count": 11,
   "metadata": {},
   "outputs": [
    {
     "data": {
      "text/plain": [
       "array([-0.61446603, -0.17450377, -0.61815221])"
      ]
     },
     "execution_count": 11,
     "metadata": {},
     "output_type": "execute_result"
    }
   ],
   "source": [
    "X[0] # observe que 0 é a linha 1, compare com o X[0, 1] de antes."
   ]
  },
  {
   "cell_type": "code",
   "execution_count": 12,
   "metadata": {},
   "outputs": [
    {
     "data": {
      "text/plain": [
       "array([-0.9451282 , -0.25470773, -0.59524922])"
      ]
     },
     "execution_count": 12,
     "metadata": {},
     "output_type": "execute_result"
    }
   ],
   "source": [
    "X[1] # segunda"
   ]
  },
  {
   "cell_type": "code",
   "execution_count": 13,
   "metadata": {},
   "outputs": [
    {
     "data": {
      "text/plain": [
       "array([-0.10445534,  1.61097562,  0.55283441])"
      ]
     },
     "execution_count": 13,
     "metadata": {},
     "output_type": "execute_result"
    }
   ],
   "source": [
    "X[2] # terceira"
   ]
  },
  {
   "cell_type": "markdown",
   "metadata": {},
   "source": [
    "Observe como todos os tipos retornados são `array`. Array é o nome genérico de Numpy para vetores e matrizes. "
   ]
  },
  {
   "cell_type": "markdown",
   "metadata": {},
   "source": [
    "`X[:, c]` pega uma coluna"
   ]
  },
  {
   "cell_type": "code",
   "execution_count": 14,
   "metadata": {},
   "outputs": [
    {
     "data": {
      "text/plain": [
       "array([-0.61446603, -0.9451282 , -0.10445534, -0.98305846])"
      ]
     },
     "execution_count": 14,
     "metadata": {},
     "output_type": "execute_result"
    }
   ],
   "source": [
    "X[:, 0]"
   ]
  },
  {
   "cell_type": "code",
   "execution_count": 15,
   "metadata": {},
   "outputs": [
    {
     "data": {
      "text/plain": [
       "array([-0.17450377, -0.25470773,  1.61097562,  0.55147489])"
      ]
     },
     "execution_count": 15,
     "metadata": {},
     "output_type": "execute_result"
    }
   ],
   "source": [
    "X[:, 1]"
   ]
  },
  {
   "cell_type": "markdown",
   "metadata": {},
   "source": [
    "`X[um_vetor]` pega as linhas da matriz. `X[:, um_vetor]` pega as colunas"
   ]
  },
  {
   "cell_type": "code",
   "execution_count": 16,
   "metadata": {},
   "outputs": [
    {
     "data": {
      "text/plain": [
       "array([[-0.61446603, -0.17450377, -0.61815221],\n",
       "       [-0.61446603, -0.17450377, -0.61815221],\n",
       "       [-0.9451282 , -0.25470773, -0.59524922]])"
      ]
     },
     "execution_count": 16,
     "metadata": {},
     "output_type": "execute_result"
    }
   ],
   "source": [
    "X[[0, 0, 1]] # observe que pego a primeira linha, indexada por 0, duas vezes"
   ]
  },
  {
   "cell_type": "markdown",
   "metadata": {},
   "source": [
    "Abaixo pego a segunda a primeira coluna"
   ]
  },
  {
   "cell_type": "code",
   "execution_count": 17,
   "metadata": {},
   "outputs": [
    {
     "data": {
      "text/plain": [
       "array([[-0.17450377, -0.61446603],\n",
       "       [-0.25470773, -0.9451282 ],\n",
       "       [ 1.61097562, -0.10445534],\n",
       "       [ 0.55147489, -0.98305846]])"
      ]
     },
     "execution_count": 17,
     "metadata": {},
     "output_type": "execute_result"
    }
   ],
   "source": [
    "X[:, [1, 0]]"
   ]
  },
  {
   "cell_type": "markdown",
   "metadata": {},
   "source": [
    "### Indexação Booleana\n",
    "\n",
    "`X[vetor_booleano]` retorna as linhas (ou colunas quando X[:, vetor_booleano]) onde o vetor é true"
   ]
  },
  {
   "cell_type": "code",
   "execution_count": 18,
   "metadata": {},
   "outputs": [
    {
     "data": {
      "text/plain": [
       "array([[-0.61446603, -0.17450377, -0.61815221],\n",
       "       [-0.9451282 , -0.25470773, -0.59524922],\n",
       "       [-0.10445534,  1.61097562,  0.55283441],\n",
       "       [-0.98305846,  0.55147489, -0.50917124]])"
      ]
     },
     "execution_count": 18,
     "metadata": {},
     "output_type": "execute_result"
    }
   ],
   "source": [
    "# X[[True, False, True, False]]\n",
    "X[[True, True, True, True]]"
   ]
  },
  {
   "cell_type": "code",
   "execution_count": 19,
   "metadata": {},
   "outputs": [
    {
     "data": {
      "text/plain": [
       "array([[-0.17450377, -0.61815221],\n",
       "       [-0.25470773, -0.59524922],\n",
       "       [ 1.61097562,  0.55283441],\n",
       "       [ 0.55147489, -0.50917124]])"
      ]
     },
     "execution_count": 19,
     "metadata": {},
     "output_type": "execute_result"
    }
   ],
   "source": [
    "X[:, [False, True, True]]"
   ]
  },
  {
   "cell_type": "markdown",
   "metadata": {},
   "source": [
    "### Reshape, Flatten e Ravel\n",
    "\n",
    "Todo vetor ou matriz pode ser redimensionado. Observe como uma matriz abaixo de 9x8=72 elementos. Podemos redimensionar os mesmos para outros arrays de tamanho 72."
   ]
  },
  {
   "cell_type": "code",
   "execution_count": 20,
   "metadata": {},
   "outputs": [],
   "source": [
    "X = np.random.randn(9, 8)"
   ]
  },
  {
   "cell_type": "markdown",
   "metadata": {},
   "source": [
    "Criando uma matriz de 18x4."
   ]
  },
  {
   "cell_type": "code",
   "execution_count": 21,
   "metadata": {},
   "outputs": [
    {
     "data": {
      "text/plain": [
       "array([[ 0.426662  ,  0.40667562, -1.28565783, -2.23202098],\n",
       "       [-0.04804149, -1.51615456,  0.24863262,  0.09642529],\n",
       "       [ 0.18360347, -1.83625875, -1.08390658, -0.05874176],\n",
       "       [-0.50906693,  0.84604921, -0.6988544 ,  1.46846773],\n",
       "       [ 1.08058607,  0.3416953 ,  2.2158583 ,  1.98100224],\n",
       "       [-0.32382467,  0.08202874,  0.93870316,  0.30195318],\n",
       "       [-1.99718429, -0.50075862,  1.61247093, -0.18979232],\n",
       "       [-1.19176672,  1.12794291, -1.55643177, -0.88427864],\n",
       "       [-0.08378839, -1.4210832 ,  0.39506358,  0.31627088],\n",
       "       [ 1.75556833,  0.88543164,  0.50475733, -1.05916857],\n",
       "       [ 0.98621736, -0.66228825,  1.09379229,  0.00301684],\n",
       "       [ 0.72413978, -1.68108171,  1.02898643, -2.18206576],\n",
       "       [ 0.5769747 , -1.2521925 ,  1.46341729, -1.08455847],\n",
       "       [-1.19202762,  1.64696426, -1.11340667, -0.77193667],\n",
       "       [-0.1050627 ,  0.81710999,  1.19394624, -0.57262632],\n",
       "       [-0.27497678,  0.43498938,  1.97986392,  1.63109968],\n",
       "       [ 0.92273565, -0.18903076,  0.40092301, -0.63941132],\n",
       "       [ 0.97245592,  0.49202392, -0.04705528,  0.43410974]])"
      ]
     },
     "execution_count": 21,
     "metadata": {},
     "output_type": "execute_result"
    }
   ],
   "source": [
    "X.reshape((18, 4))"
   ]
  },
  {
   "cell_type": "markdown",
   "metadata": {},
   "source": [
    "Ou um vetor de 72"
   ]
  },
  {
   "cell_type": "code",
   "execution_count": 22,
   "metadata": {},
   "outputs": [
    {
     "data": {
      "text/plain": [
       "array([ 0.426662  ,  0.40667562, -1.28565783, -2.23202098, -0.04804149,\n",
       "       -1.51615456,  0.24863262,  0.09642529,  0.18360347, -1.83625875,\n",
       "       -1.08390658, -0.05874176, -0.50906693,  0.84604921, -0.6988544 ,\n",
       "        1.46846773,  1.08058607,  0.3416953 ,  2.2158583 ,  1.98100224,\n",
       "       -0.32382467,  0.08202874,  0.93870316,  0.30195318, -1.99718429,\n",
       "       -0.50075862,  1.61247093, -0.18979232, -1.19176672,  1.12794291,\n",
       "       -1.55643177, -0.88427864, -0.08378839, -1.4210832 ,  0.39506358,\n",
       "        0.31627088,  1.75556833,  0.88543164,  0.50475733, -1.05916857,\n",
       "        0.98621736, -0.66228825,  1.09379229,  0.00301684,  0.72413978,\n",
       "       -1.68108171,  1.02898643, -2.18206576,  0.5769747 , -1.2521925 ,\n",
       "        1.46341729, -1.08455847, -1.19202762,  1.64696426, -1.11340667,\n",
       "       -0.77193667, -0.1050627 ,  0.81710999,  1.19394624, -0.57262632,\n",
       "       -0.27497678,  0.43498938,  1.97986392,  1.63109968,  0.92273565,\n",
       "       -0.18903076,  0.40092301, -0.63941132,  0.97245592,  0.49202392,\n",
       "       -0.04705528,  0.43410974])"
      ]
     },
     "execution_count": 22,
     "metadata": {},
     "output_type": "execute_result"
    }
   ],
   "source": [
    "X.reshape(72)"
   ]
  },
  {
   "cell_type": "markdown",
   "metadata": {},
   "source": [
    "A chamada flatten e ravel faz a mesma coisa, criam uma visão de uma dimensão da matriz."
   ]
  },
  {
   "cell_type": "code",
   "execution_count": 23,
   "metadata": {},
   "outputs": [
    {
     "data": {
      "text/plain": [
       "array([ 0.426662  ,  0.40667562, -1.28565783, -2.23202098, -0.04804149,\n",
       "       -1.51615456,  0.24863262,  0.09642529,  0.18360347, -1.83625875,\n",
       "       -1.08390658, -0.05874176, -0.50906693,  0.84604921, -0.6988544 ,\n",
       "        1.46846773,  1.08058607,  0.3416953 ,  2.2158583 ,  1.98100224,\n",
       "       -0.32382467,  0.08202874,  0.93870316,  0.30195318, -1.99718429,\n",
       "       -0.50075862,  1.61247093, -0.18979232, -1.19176672,  1.12794291,\n",
       "       -1.55643177, -0.88427864, -0.08378839, -1.4210832 ,  0.39506358,\n",
       "        0.31627088,  1.75556833,  0.88543164,  0.50475733, -1.05916857,\n",
       "        0.98621736, -0.66228825,  1.09379229,  0.00301684,  0.72413978,\n",
       "       -1.68108171,  1.02898643, -2.18206576,  0.5769747 , -1.2521925 ,\n",
       "        1.46341729, -1.08455847, -1.19202762,  1.64696426, -1.11340667,\n",
       "       -0.77193667, -0.1050627 ,  0.81710999,  1.19394624, -0.57262632,\n",
       "       -0.27497678,  0.43498938,  1.97986392,  1.63109968,  0.92273565,\n",
       "       -0.18903076,  0.40092301, -0.63941132,  0.97245592,  0.49202392,\n",
       "       -0.04705528,  0.43410974])"
      ]
     },
     "execution_count": 23,
     "metadata": {},
     "output_type": "execute_result"
    }
   ],
   "source": [
    "X.flatten()"
   ]
  },
  {
   "cell_type": "code",
   "execution_count": 24,
   "metadata": {},
   "outputs": [
    {
     "data": {
      "text/plain": [
       "array([ 0.426662  ,  0.40667562, -1.28565783, -2.23202098, -0.04804149,\n",
       "       -1.51615456,  0.24863262,  0.09642529,  0.18360347, -1.83625875,\n",
       "       -1.08390658, -0.05874176, -0.50906693,  0.84604921, -0.6988544 ,\n",
       "        1.46846773,  1.08058607,  0.3416953 ,  2.2158583 ,  1.98100224,\n",
       "       -0.32382467,  0.08202874,  0.93870316,  0.30195318, -1.99718429,\n",
       "       -0.50075862,  1.61247093, -0.18979232, -1.19176672,  1.12794291,\n",
       "       -1.55643177, -0.88427864, -0.08378839, -1.4210832 ,  0.39506358,\n",
       "        0.31627088,  1.75556833,  0.88543164,  0.50475733, -1.05916857,\n",
       "        0.98621736, -0.66228825,  1.09379229,  0.00301684,  0.72413978,\n",
       "       -1.68108171,  1.02898643, -2.18206576,  0.5769747 , -1.2521925 ,\n",
       "        1.46341729, -1.08455847, -1.19202762,  1.64696426, -1.11340667,\n",
       "       -0.77193667, -0.1050627 ,  0.81710999,  1.19394624, -0.57262632,\n",
       "       -0.27497678,  0.43498938,  1.97986392,  1.63109968,  0.92273565,\n",
       "       -0.18903076,  0.40092301, -0.63941132,  0.97245592,  0.49202392,\n",
       "       -0.04705528,  0.43410974])"
      ]
     },
     "execution_count": 24,
     "metadata": {},
     "output_type": "execute_result"
    }
   ],
   "source": [
    "X.ravel()"
   ]
  },
  {
   "cell_type": "markdown",
   "metadata": {},
   "source": [
    "As funções incorporadas ao NumPy podem ser facilmente chamadas em matrizes. A maioria das funções são aplicadas a um elemento de array (como a multiplicação escalar). Por exemplo, se chamarmos `log()` em um array, o logaritmo será obtido de cada elemento. "
   ]
  },
  {
   "cell_type": "code",
   "execution_count": 25,
   "metadata": {},
   "outputs": [
    {
     "data": {
      "text/plain": [
       "array([1.25276297, 1.60943791, 0.69314718, 2.07944154, 1.43508453])"
      ]
     },
     "execution_count": 25,
     "metadata": {},
     "output_type": "execute_result"
    }
   ],
   "source": [
    "np.log(data)"
   ]
  },
  {
   "cell_type": "markdown",
   "metadata": {},
   "source": [
    "Mean tira a média"
   ]
  },
  {
   "cell_type": "code",
   "execution_count": 26,
   "metadata": {},
   "outputs": [
    {
     "data": {
      "text/plain": [
       "4.54"
      ]
     },
     "execution_count": 26,
     "metadata": {},
     "output_type": "execute_result"
    }
   ],
   "source": [
    "np.mean(data)"
   ]
  },
  {
   "cell_type": "markdown",
   "metadata": {},
   "source": [
    "Algumas funções podem ser chamadas direto no vetor, nem todas serão assim. O importante é ler a [documentação](http://numpy.org) e aprender. Com um pouco de prática você vai se acostumando."
   ]
  },
  {
   "cell_type": "code",
   "execution_count": 27,
   "metadata": {},
   "outputs": [
    {
     "data": {
      "text/plain": [
       "4.54"
      ]
     },
     "execution_count": 27,
     "metadata": {},
     "output_type": "execute_result"
    }
   ],
   "source": [
    "data.mean()"
   ]
  },
  {
   "cell_type": "markdown",
   "metadata": {},
   "source": [
    "Abaixo temos a mediana,"
   ]
  },
  {
   "cell_type": "code",
   "execution_count": 28,
   "metadata": {},
   "outputs": [
    {
     "data": {
      "text/plain": [
       "4.2"
      ]
     },
     "execution_count": 28,
     "metadata": {},
     "output_type": "execute_result"
    }
   ],
   "source": [
    "np.median(data) # por exemplo, não existe data.median(). Faz sentido? Não. Mas é assim."
   ]
  },
  {
   "cell_type": "markdown",
   "metadata": {},
   "source": [
    "Em matrizes as funções operam em todos os elemntos."
   ]
  },
  {
   "cell_type": "code",
   "execution_count": 29,
   "metadata": {},
   "outputs": [
    {
     "data": {
      "text/plain": [
       "0.14001438082251802"
      ]
     },
     "execution_count": 29,
     "metadata": {},
     "output_type": "execute_result"
    }
   ],
   "source": [
    "np.median(X)"
   ]
  },
  {
   "cell_type": "code",
   "execution_count": 30,
   "metadata": {},
   "outputs": [
    {
     "data": {
      "text/plain": [
       "0.052418245206319186"
      ]
     },
     "execution_count": 30,
     "metadata": {},
     "output_type": "execute_result"
    }
   ],
   "source": [
    "X.mean()"
   ]
  },
  {
   "cell_type": "code",
   "execution_count": 31,
   "metadata": {},
   "outputs": [
    {
     "data": {
      "text/plain": [
       "array([[2.34436618, 2.34244749, 2.16497019, 2.05001003, 2.29776937,\n",
       "        2.13816382, 2.32714429, 2.31218143],\n",
       "       [2.32077892, 2.09970255, 2.18785789, 2.2966936 , 2.25033693,\n",
       "        2.38380089, 2.23013757, 2.43960133],\n",
       "       [2.40519457, 2.33618381, 2.50273497, 2.48332225, 2.26966671,\n",
       "        2.31075451, 2.39230725, 2.33233351],\n",
       "       [2.07979344, 2.25121194, 2.4520796 , 2.28342344, 2.17568688,\n",
       "        2.40945932, 2.133405  , 2.21000055],\n",
       "       [2.29417095, 2.14930766, 2.34133104, 2.33372235, 2.46432703,\n",
       "        2.38742535, 2.35182823, 2.19062859],\n",
       "       [2.39664152, 2.23406123, 2.4063857 , 2.30288673, 2.37249725,\n",
       "        2.11853223, 2.40052694, 2.05642036],\n",
       "       [2.35867944, 2.1688031 , 2.43916086, 2.18778478, 2.17565726,\n",
       "        2.45504557, 2.18454377, 2.2222492 ],\n",
       "       [2.29202324, 2.38112914, 2.41537312, 2.24361755, 2.27470228,\n",
       "        2.34516452, 2.48322723, 2.45368252],\n",
       "       [2.39084646, 2.28350107, 2.34189455, 2.23650818, 2.39538812,\n",
       "        2.35061534, 2.29786846, 2.34508022]])"
      ]
     },
     "execution_count": 31,
     "metadata": {},
     "output_type": "execute_result"
    }
   ],
   "source": [
    "np.log(X + 10)"
   ]
  },
  {
   "cell_type": "markdown",
   "metadata": {},
   "source": [
    "Porém, caso você queira a media de linhas ou colunas use `axis`. Antes, vamos ver o tamanho do vetor."
   ]
  },
  {
   "cell_type": "code",
   "execution_count": 32,
   "metadata": {},
   "outputs": [
    {
     "data": {
      "text/plain": [
       "(9, 8)"
      ]
     },
     "execution_count": 32,
     "metadata": {},
     "output_type": "execute_result"
    }
   ],
   "source": [
    "X.shape"
   ]
  },
  {
   "cell_type": "code",
   "execution_count": 33,
   "metadata": {},
   "outputs": [
    {
     "data": {
      "text/plain": [
       "array([ 0.22119376, -0.47734791,  0.66732303, -0.2752068 , -0.00972669,\n",
       "        0.25757709,  0.14279948, -0.107266  ])"
      ]
     },
     "execution_count": 33,
     "metadata": {},
     "output_type": "execute_result"
    }
   ],
   "source": [
    "np.mean(X, axis=0) # média das colunas. como temos 8 colunas, temos 8 elementos."
   ]
  },
  {
   "cell_type": "code",
   "execution_count": 34,
   "metadata": {},
   "outputs": [
    {
     "data": {
      "text/plain": [
       "(8,)"
      ]
     },
     "execution_count": 34,
     "metadata": {},
     "output_type": "execute_result"
    }
   ],
   "source": [
    "np.mean(X, axis=0).shape"
   ]
  },
  {
   "cell_type": "code",
   "execution_count": 35,
   "metadata": {},
   "outputs": [
    {
     "data": {
      "text/plain": [
       "array([-0.48793492, -0.2110885 ,  0.82725029, -0.44747481,  0.16163145,\n",
       "       -0.08616038, -0.21584571,  0.63804293,  0.29334386])"
      ]
     },
     "execution_count": 35,
     "metadata": {},
     "output_type": "execute_result"
    }
   ],
   "source": [
    "np.mean(X, axis=1) # média das linhas"
   ]
  },
  {
   "cell_type": "code",
   "execution_count": 36,
   "metadata": {},
   "outputs": [
    {
     "data": {
      "text/plain": [
       "(9,)"
      ]
     },
     "execution_count": 36,
     "metadata": {},
     "output_type": "execute_result"
    }
   ],
   "source": [
    "np.mean(X, axis=1).shape"
   ]
  },
  {
   "cell_type": "markdown",
   "metadata": {},
   "source": [
    "Lembre-se que eixo 0 é coluna. Eixo 1 é linas."
   ]
  },
  {
   "cell_type": "markdown",
   "metadata": {},
   "source": [
    "### Multiplicação de Matrizes"
   ]
  },
  {
   "cell_type": "markdown",
   "metadata": {},
   "source": [
    "Para transpor uma matriz fazemos uso de .T"
   ]
  },
  {
   "cell_type": "code",
   "execution_count": 37,
   "metadata": {},
   "outputs": [
    {
     "data": {
      "text/plain": [
       "(9, 8)"
      ]
     },
     "execution_count": 37,
     "metadata": {},
     "output_type": "execute_result"
    }
   ],
   "source": [
    "X.shape"
   ]
  },
  {
   "cell_type": "code",
   "execution_count": 38,
   "metadata": {},
   "outputs": [
    {
     "data": {
      "text/plain": [
       "(8, 9)"
      ]
     },
     "execution_count": 38,
     "metadata": {},
     "output_type": "execute_result"
    }
   ],
   "source": [
    "X.T.shape"
   ]
  },
  {
   "cell_type": "code",
   "execution_count": 39,
   "metadata": {},
   "outputs": [
    {
     "data": {
      "text/plain": [
       "array([[ 0.426662  ,  0.18360347,  1.08058607, -1.99718429, -0.08378839,\n",
       "         0.98621736,  0.5769747 , -0.1050627 ,  0.92273565],\n",
       "       [ 0.40667562, -1.83625875,  0.3416953 , -0.50075862, -1.4210832 ,\n",
       "        -0.66228825, -1.2521925 ,  0.81710999, -0.18903076],\n",
       "       [-1.28565783, -1.08390658,  2.2158583 ,  1.61247093,  0.39506358,\n",
       "         1.09379229,  1.46341729,  1.19394624,  0.40092301],\n",
       "       [-2.23202098, -0.05874176,  1.98100224, -0.18979232,  0.31627088,\n",
       "         0.00301684, -1.08455847, -0.57262632, -0.63941132],\n",
       "       [-0.04804149, -0.50906693, -0.32382467, -1.19176672,  1.75556833,\n",
       "         0.72413978, -1.19202762, -0.27497678,  0.97245592],\n",
       "       [-1.51615456,  0.84604921,  0.08202874,  1.12794291,  0.88543164,\n",
       "        -1.68108171,  1.64696426,  0.43498938,  0.49202392],\n",
       "       [ 0.24863262, -0.6988544 ,  0.93870316, -1.55643177,  0.50475733,\n",
       "         1.02898643, -1.11340667,  1.97986392, -0.04705528],\n",
       "       [ 0.09642529,  1.46846773,  0.30195318, -0.88427864, -1.05916857,\n",
       "        -2.18206576, -0.77193667,  1.63109968,  0.43410974]])"
      ]
     },
     "execution_count": 39,
     "metadata": {},
     "output_type": "execute_result"
    }
   ],
   "source": [
    "X.T"
   ]
  },
  {
   "cell_type": "markdown",
   "metadata": {},
   "source": [
    "Para multiplicar matrizes, do ponto de visto de multiplicação matricial como definido na álgebra linear, fazemos uso de `@`."
   ]
  },
  {
   "cell_type": "code",
   "execution_count": 40,
   "metadata": {},
   "outputs": [
    {
     "data": {
      "text/plain": [
       "array([[ 9.35440787, -0.43422485, -6.51677307, -4.83036247, -3.23093189,\n",
       "         1.29789292, -2.51480864,  0.03381725,  0.46600883],\n",
       "       [-0.43422485,  8.20360385, -2.92555212,  0.16638211,  0.09461251,\n",
       "        -5.50285866,  2.52756495, -1.26061973,  0.71111615],\n",
       "       [-6.51677307, -2.92555212, 11.2027503 , -0.38179928,  0.58395273,\n",
       "         3.20369684,  0.53267439,  4.15266116,  0.36658246],\n",
       "       [-4.83036247,  0.16638211, -0.38179928, 12.7725796 ,  0.51343151,\n",
       "        -2.30603849,  7.73412922, -1.87097997, -1.89498365],\n",
       "       [-3.23093189,  0.09461251,  0.58395273,  0.51343151,  7.52522785,\n",
       "         3.90496262,  1.58745376, -1.68764445,  1.80679626],\n",
       "       [ 1.29789292, -5.50285866,  3.20369684, -2.30603849,  3.90496262,\n",
       "        11.77827927, -0.09740242, -1.79286328,  0.35319461],\n",
       "       [-2.51480864,  2.52756495,  0.53267439,  7.73412922,  1.58745376,\n",
       "        -0.09740242, 11.18772489, -1.1348167 ,  1.41773259],\n",
       "       [ 0.03381725, -1.26061973,  4.15266116, -1.87097997, -1.68764445,\n",
       "        -1.79286328, -1.1348167 ,  9.27729071,  1.15495584],\n",
       "       [ 0.46600883,  0.71111615,  0.36658246, -1.89498365,  1.80679626,\n",
       "         0.35319461,  1.41773259,  1.15495584,  2.83518331]])"
      ]
     },
     "execution_count": 40,
     "metadata": {},
     "output_type": "execute_result"
    }
   ],
   "source": [
    "X @ X.T"
   ]
  },
  {
   "cell_type": "markdown",
   "metadata": {},
   "source": [
    "O uso de `*` realiza uma operação ponto a ponto"
   ]
  },
  {
   "cell_type": "code",
   "execution_count": 41,
   "metadata": {},
   "outputs": [
    {
     "data": {
      "text/plain": [
       "array([[1.82040461e-01, 1.65385064e-01, 1.65291606e+00, 4.98191765e+00,\n",
       "        2.30798509e-03, 2.29872464e+00, 6.18181776e-02, 9.29783635e-03],\n",
       "       [3.37102352e-02, 3.37184620e+00, 1.17485347e+00, 3.45059393e-03,\n",
       "        2.59149136e-01, 7.15799269e-01, 4.88397479e-01, 2.15639747e+00],\n",
       "       [1.16766626e+00, 1.16755676e-01, 4.91002801e+00, 3.92436989e+00,\n",
       "        1.04862414e-01, 6.72871474e-03, 8.81163627e-01, 9.11757203e-02],\n",
       "       [3.98874510e+00, 2.50759200e-01, 2.60006249e+00, 3.60211232e-02,\n",
       "        1.42030791e+00, 1.27225522e+00, 2.42247985e+00, 7.81948709e-01],\n",
       "       [7.02049445e-03, 2.01947747e+00, 1.56075231e-01, 1.00027272e-01,\n",
       "        3.08202017e+00, 7.83989183e-01, 2.54779965e-01, 1.12183807e+00],\n",
       "       [9.72624677e-01, 4.38625724e-01, 1.19638158e+00, 9.10131423e-06,\n",
       "        5.24378416e-01, 2.82603573e+00, 1.05881307e+00, 4.76141097e+00],\n",
       "       [3.32899806e-01, 1.56798606e+00, 2.14159018e+00, 1.17626708e+00,\n",
       "        1.42092984e+00, 2.71249128e+00, 1.23967441e+00, 5.95886230e-01],\n",
       "       [1.10381706e-02, 6.67668732e-01, 1.42550762e+00, 3.27900903e-01,\n",
       "        7.56122273e-02, 1.89215761e-01, 3.91986115e+00, 2.66048615e+00],\n",
       "       [8.51441077e-01, 3.57326273e-02, 1.60739258e-01, 4.08846831e-01,\n",
       "        9.45670508e-01, 2.42087542e-01, 2.21419931e-03, 1.88451265e-01]])"
      ]
     },
     "execution_count": 41,
     "metadata": {},
     "output_type": "execute_result"
    }
   ],
   "source": [
    "X * X"
   ]
  },
  {
   "cell_type": "markdown",
   "metadata": {},
   "source": [
    "Observe a diferença de tamanhos"
   ]
  },
  {
   "cell_type": "code",
   "execution_count": 42,
   "metadata": {},
   "outputs": [
    {
     "data": {
      "text/plain": [
       "(9, 8)"
      ]
     },
     "execution_count": 42,
     "metadata": {},
     "output_type": "execute_result"
    }
   ],
   "source": [
    "(X * X).shape"
   ]
  },
  {
   "cell_type": "code",
   "execution_count": 43,
   "metadata": {},
   "outputs": [
    {
     "data": {
      "text/plain": [
       "(9, 9)"
      ]
     },
     "execution_count": 43,
     "metadata": {},
     "output_type": "execute_result"
    }
   ],
   "source": [
    "(X @ X.T).shape"
   ]
  },
  {
   "cell_type": "markdown",
   "metadata": {},
   "source": [
    "**Pense:** Para o nosso `X` de tamanho `(9, 8)`, qual o motivo de `X * X.T` não funcionar? Qual o motivo de `X @ X` não funcionar?"
   ]
  },
  {
   "cell_type": "markdown",
   "metadata": {},
   "source": [
    "## Correção Automática\n",
    "\n",
    "Nossa correção automática depende das funções abaixo. Tais funções comparam valores que serão computados pelo seu código com uma saída esperada. Normalmente, vocês não fazer uso de tais funções em notebooks como este. Porém, elas são chave em ambientes de testes automáticos (fora do nosso escopo).\n",
    "\n",
    "Observe como algumas funções comparam valores e outras comparam vetores. Além do mais, temos funções para comparar dentro de algumas casas decimais."
   ]
  },
  {
   "cell_type": "code",
   "execution_count": 44,
   "metadata": {},
   "outputs": [],
   "source": [
    "from numpy.testing import assert_almost_equal\n",
    "from numpy.testing import assert_equal\n",
    "\n",
    "from numpy.testing import assert_array_almost_equal\n",
    "from numpy.testing import assert_array_equal"
   ]
  },
  {
   "cell_type": "code",
   "execution_count": 45,
   "metadata": {},
   "outputs": [],
   "source": [
    "# caso você mude um dos valores vamos receber um erro!\n",
    "assert_array_equal(2, 2)\n",
    "\n",
    "# caso você mude um dos valores vamos receber um erro!\n",
    "assert_array_equal([1, 2], [1, 2])\n",
    "\n",
    "# caso você mude um dos valores vamos receber um erro!\n",
    "assert_almost_equal(3.1415, 3.14, 1)"
   ]
  },
  {
   "cell_type": "markdown",
   "metadata": {},
   "source": [
    "Caso você mude um dos valores abaixo vamos receber um erro! Como o abaixo.\n",
    "\n",
    "```\n",
    "-----------------------------------------------------------------------\n",
    "AssertionError                        Traceback (most recent call last)\n",
    "<ipython-input-10-396672d880f2> in <module>\n",
    "----> 1 assert_equal(2, 3) # caso você mude um dos valores vamos receber um erro!\n",
    "\n",
    "~/miniconda3/lib/python3.7/site-packages/numpy/testing/_private/utils.py in assert_equal(actual, desired, err_msg, verbose)\n",
    "    413         # Explicitly use __eq__ for comparison, gh-2552\n",
    "    414         if not (desired == actual):\n",
    "--> 415             raise AssertionError(msg)\n",
    "    416 \n",
    "    417     except (DeprecationWarning, FutureWarning) as e:\n",
    "\n",
    "AssertionError: \n",
    "Items are not equal:\n",
    " ACTUAL: 2\n",
    " DESIRED: 3\n",
    " ```"
   ]
  },
  {
   "cell_type": "markdown",
   "metadata": {},
   "source": [
    "É essencial que todo seu código execute sem erros! Portanto, antes de submeter clique em `Kernel` no menu acima. Depois clique em `Restart & Execute All.`\n",
    "\n",
    "**Garanta que o notebook executa até o fim!** Isto é, sem erros como o acima."
   ]
  },
  {
   "cell_type": "markdown",
   "metadata": {},
   "source": [
    "## Funções em Python"
   ]
  },
  {
   "cell_type": "markdown",
   "metadata": {},
   "source": [
    "Para criar uma função em Python fazemos uso da palavra-chave: \n",
    "```python\n",
    "def\n",
    "```\n",
    "\n",
    "Todos nossos exercícios farão uso de funções. **Mantenha a assinatura das funções exatamente como requisitado, a correção automática depende disso.** Abaixo, temos um exempo de uma função que imprime algo na tela!"
   ]
  },
  {
   "cell_type": "code",
   "execution_count": 58,
   "metadata": {},
   "outputs": [],
   "source": [
    "def print_something(txt):\n",
    "    print(f'Você passou o argumento: {txt}')"
   ]
  },
  {
   "cell_type": "code",
   "execution_count": 59,
   "metadata": {},
   "outputs": [
    {
     "name": "stdout",
     "output_type": "stream",
     "text": [
      "Você passou o argumento: DCC 212\n"
     ]
    }
   ],
   "source": [
    "print_something('DCC 212')"
   ]
  },
  {
   "cell_type": "markdown",
   "metadata": {},
   "source": [
    "Podemos também dizer o tipo do argumento, porém faremos pouco uso disto em ICD."
   ]
  },
  {
   "cell_type": "code",
   "execution_count": 60,
   "metadata": {},
   "outputs": [],
   "source": [
    "def print_something(txt: str):\n",
    "    print(f'Você passou o argumento: {txt}')"
   ]
  },
  {
   "cell_type": "code",
   "execution_count": 61,
   "metadata": {},
   "outputs": [
    {
     "name": "stdout",
     "output_type": "stream",
     "text": [
      "Você passou o argumento: DCC 212\n"
     ]
    }
   ],
   "source": [
    "print_something('DCC 212')"
   ]
  },
  {
   "cell_type": "markdown",
   "metadata": {},
   "source": [
    "Abaixo temos uma função que soma, a soma, dois vetores"
   ]
  },
  {
   "cell_type": "code",
   "execution_count": 50,
   "metadata": {},
   "outputs": [],
   "source": [
    "def sum_of_sum_vectors(array_1, array_2):\n",
    "    return (array_1 + array_2).sum()"
   ]
  },
  {
   "cell_type": "code",
   "execution_count": 51,
   "metadata": {},
   "outputs": [],
   "source": [
    "x = np.array([1, 2])\n",
    "y = np.array([1, 2])"
   ]
  },
  {
   "cell_type": "code",
   "execution_count": 52,
   "metadata": {},
   "outputs": [
    {
     "data": {
      "text/plain": [
       "6"
      ]
     },
     "execution_count": 52,
     "metadata": {},
     "output_type": "execute_result"
    }
   ],
   "source": [
    "sum_of_sum_vectors(x, y)"
   ]
  },
  {
   "cell_type": "markdown",
   "metadata": {},
   "source": [
    "Abaixo temos um teste, tais testes vão avaliar o seu código. Nem todos estão aqui no notebook!"
   ]
  },
  {
   "cell_type": "code",
   "execution_count": 53,
   "metadata": {},
   "outputs": [],
   "source": [
    "assert_equal(6, sum_of_sum_vectors(x, y))"
   ]
  },
  {
   "cell_type": "markdown",
   "metadata": {},
   "source": [
    "## Exercício 01\n",
    "\n",
    "Inicialmente, crie uma função que recebe duas listas de numéros, converte as duas para um vetor numpy usando `np.array` e retorna o produto interno das duas listas. \n",
    "\n",
    "__Dicas:__  \n",
    "1. Tente fazer um código sem nenhum **for**! Ou seja, numpy permite operações em vetores e matrizes, onde: `np.array([1, 2]) + np.array([2, 2]) = np.array([3, 4])`.\n",
    "\n",
    "__Funções:__\n",
    "1. `np.sum(array)` soma os elementos do array. `array.sum()` tem o mesmo efeito!"
   ]
  },
  {
   "cell_type": "code",
   "execution_count": 62,
   "metadata": {},
   "outputs": [],
   "source": [
    "def inner(array_1, array_2):\n",
    "   return np.inner(np.array(array_1), np.array(array_2))"
   ]
  },
  {
   "cell_type": "code",
   "execution_count": 63,
   "metadata": {},
   "outputs": [],
   "source": [
    "x1 = np.array([2, 4, 8])\n",
    "x2 = np.array([10, 100, 1000])\n",
    "assert_equal(20 + 400 + 8000, inner(x1, x2))"
   ]
  },
  {
   "cell_type": "markdown",
   "metadata": {},
   "source": [
    "## Exercício 02\n",
    "\n",
    "Implemente uma função utilizando numpy que recebe duas matrizes, multiplica as duas e retorne o valor médio das células da multiplicação. Por exemplo, ao multiplicar:\n",
    "\n",
    "```\n",
    "[1 2]\n",
    "[3 4] \n",
    "\n",
    "com \n",
    "\n",
    "[2 1]\n",
    "[1 2]\n",
    "\n",
    "temos\n",
    "\n",
    "[4  5 ]\n",
    "[10 11]\n",
    "\n",
    "onde a média de [4, 5, 10, 11] é\n",
    "\n",
    "7.5, sua resposta final!\n",
    "```\n",
    "\n",
    "\n",
    "__Dicas:__  \n",
    "1. Use o operador @ para multiplicar matrizes!"
   ]
  },
  {
   "cell_type": "code",
   "execution_count": 56,
   "metadata": {},
   "outputs": [],
   "source": [
    "def medmult(X_1, X_2):\n",
    "    x_y = X_1 @ X_2\n",
    "    return np.mean(x_y)"
   ]
  },
  {
   "cell_type": "code",
   "execution_count": 57,
   "metadata": {},
   "outputs": [],
   "source": [
    "X = np.array([1, 2, 3, 4]).reshape(2, 2)\n",
    "Y = np.array([2, 1, 1, 2]).reshape(2, 2)\n",
    "assert_equal(7.5, medmult(X, Y))"
   ]
  },
  {
   "cell_type": "code",
   "execution_count": null,
   "metadata": {},
   "outputs": [],
   "source": []
  }
 ],
 "metadata": {
  "kernelspec": {
   "display_name": "Python 3",
   "language": "python",
   "name": "python3"
  },
  "language_info": {
   "codemirror_mode": {
    "name": "ipython",
    "version": 3
   },
   "file_extension": ".py",
   "mimetype": "text/x-python",
   "name": "python",
   "nbconvert_exporter": "python",
   "pygments_lexer": "ipython3",
   "version": "3.8.3"
  }
 },
 "nbformat": 4,
 "nbformat_minor": 4
}